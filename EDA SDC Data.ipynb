{
 "cells": [
  {
   "cell_type": "code",
   "execution_count": 9,
   "metadata": {},
   "outputs": [],
   "source": [
    "import numpy as np\n",
    "import matplotlib.pyplot as plt\n",
    "import pandas as pd\n",
    "from sklearn.utils import shuffle\n",
    "from sklearn.model_selection import train_test_split\n",
    "import os"
   ]
  },
  {
   "cell_type": "code",
   "execution_count": 2,
   "metadata": {},
   "outputs": [],
   "source": [
    "def get_filenames(path):\n",
    "    filename=path.split()[-1].split(sep='\\\\')[-1]  #Extracting the filename from the complete path.\n",
    "    return filename"
   ]
  },
  {
   "cell_type": "code",
   "execution_count": 4,
   "metadata": {},
   "outputs": [],
   "source": [
    "columns=['center','left','right','steering','throttle','reverse','speed']\n",
    "data_csv=pd.read_csv('SDCData/driving_log.csv',names=columns)"
   ]
  },
  {
   "cell_type": "code",
   "execution_count": 5,
   "metadata": {},
   "outputs": [
    {
     "data": {
      "text/html": [
       "<div>\n",
       "<style scoped>\n",
       "    .dataframe tbody tr th:only-of-type {\n",
       "        vertical-align: middle;\n",
       "    }\n",
       "\n",
       "    .dataframe tbody tr th {\n",
       "        vertical-align: top;\n",
       "    }\n",
       "\n",
       "    .dataframe thead th {\n",
       "        text-align: right;\n",
       "    }\n",
       "</style>\n",
       "<table border=\"1\" class=\"dataframe\">\n",
       "  <thead>\n",
       "    <tr style=\"text-align: right;\">\n",
       "      <th></th>\n",
       "      <th>center</th>\n",
       "      <th>left</th>\n",
       "      <th>right</th>\n",
       "      <th>steering</th>\n",
       "      <th>throttle</th>\n",
       "      <th>reverse</th>\n",
       "      <th>speed</th>\n",
       "    </tr>\n",
       "  </thead>\n",
       "  <tbody>\n",
       "    <tr>\n",
       "      <th>0</th>\n",
       "      <td>center_2018_07_16_17_11_43_382.jpg</td>\n",
       "      <td>left_2018_07_16_17_11_43_382.jpg</td>\n",
       "      <td>right_2018_07_16_17_11_43_382.jpg</td>\n",
       "      <td>0.0</td>\n",
       "      <td>0.0</td>\n",
       "      <td>0.0</td>\n",
       "      <td>0.649786</td>\n",
       "    </tr>\n",
       "    <tr>\n",
       "      <th>1</th>\n",
       "      <td>center_2018_07_16_17_11_43_670.jpg</td>\n",
       "      <td>left_2018_07_16_17_11_43_670.jpg</td>\n",
       "      <td>right_2018_07_16_17_11_43_670.jpg</td>\n",
       "      <td>0.0</td>\n",
       "      <td>0.0</td>\n",
       "      <td>0.0</td>\n",
       "      <td>0.627942</td>\n",
       "    </tr>\n",
       "    <tr>\n",
       "      <th>2</th>\n",
       "      <td>center_2018_07_16_17_11_43_724.jpg</td>\n",
       "      <td>left_2018_07_16_17_11_43_724.jpg</td>\n",
       "      <td>right_2018_07_16_17_11_43_724.jpg</td>\n",
       "      <td>0.0</td>\n",
       "      <td>0.0</td>\n",
       "      <td>0.0</td>\n",
       "      <td>0.622910</td>\n",
       "    </tr>\n",
       "    <tr>\n",
       "      <th>3</th>\n",
       "      <td>center_2018_07_16_17_11_43_792.jpg</td>\n",
       "      <td>left_2018_07_16_17_11_43_792.jpg</td>\n",
       "      <td>right_2018_07_16_17_11_43_792.jpg</td>\n",
       "      <td>0.0</td>\n",
       "      <td>0.0</td>\n",
       "      <td>0.0</td>\n",
       "      <td>0.619162</td>\n",
       "    </tr>\n",
       "    <tr>\n",
       "      <th>4</th>\n",
       "      <td>center_2018_07_16_17_11_43_860.jpg</td>\n",
       "      <td>left_2018_07_16_17_11_43_860.jpg</td>\n",
       "      <td>right_2018_07_16_17_11_43_860.jpg</td>\n",
       "      <td>0.0</td>\n",
       "      <td>0.0</td>\n",
       "      <td>0.0</td>\n",
       "      <td>0.615438</td>\n",
       "    </tr>\n",
       "  </tbody>\n",
       "</table>\n",
       "</div>"
      ],
      "text/plain": [
       "                               center                              left  \\\n",
       "0  center_2018_07_16_17_11_43_382.jpg  left_2018_07_16_17_11_43_382.jpg   \n",
       "1  center_2018_07_16_17_11_43_670.jpg  left_2018_07_16_17_11_43_670.jpg   \n",
       "2  center_2018_07_16_17_11_43_724.jpg  left_2018_07_16_17_11_43_724.jpg   \n",
       "3  center_2018_07_16_17_11_43_792.jpg  left_2018_07_16_17_11_43_792.jpg   \n",
       "4  center_2018_07_16_17_11_43_860.jpg  left_2018_07_16_17_11_43_860.jpg   \n",
       "\n",
       "                               right  steering  throttle  reverse     speed  \n",
       "0  right_2018_07_16_17_11_43_382.jpg  0.0       0.0       0.0      0.649786  \n",
       "1  right_2018_07_16_17_11_43_670.jpg  0.0       0.0       0.0      0.627942  \n",
       "2  right_2018_07_16_17_11_43_724.jpg  0.0       0.0       0.0      0.622910  \n",
       "3  right_2018_07_16_17_11_43_792.jpg  0.0       0.0       0.0      0.619162  \n",
       "4  right_2018_07_16_17_11_43_860.jpg  0.0       0.0       0.0      0.615438  "
      ]
     },
     "execution_count": 5,
     "metadata": {},
     "output_type": "execute_result"
    }
   ],
   "source": [
    "data_csv['center']=data_csv['center'].apply(get_filenames)\n",
    "data_csv['left']=data_csv['left'].apply(get_filenames)\n",
    "data_csv['right']=data_csv['right'].apply(get_filenames)\n",
    "pd.set_option('display.max_colwidth',-1)\n",
    "data_csv.head()"
   ]
  },
  {
   "cell_type": "code",
   "execution_count": 6,
   "metadata": {},
   "outputs": [
    {
     "data": {
      "text/plain": [
       "[<matplotlib.lines.Line2D at 0x2785724c7b8>]"
      ]
     },
     "execution_count": 6,
     "metadata": {},
     "output_type": "execute_result"
    },
    {
     "data": {
      "image/png": "[encoded data removed]",
      "text/plain": [
       "<Figure size 432x288 with 1 Axes>"
      ]
     },
     "metadata": {
      "needs_background": "light"
     },
     "output_type": "display_data"
    }
   ],
   "source": [
    "#Hisogram of the steering angles depending upon their numbers in training data.\n",
    "hist,bins=np.histogram(data_csv['steering'],25)\n",
    "center=(bins[:-1]+bins[1:])*0.5\n",
    "plt.bar(center,hist,width=0.05)\n",
    "plt.plot((np.min(data_csv['steering']),np.max(data_csv['steering'])),(400,400))"
   ]
  },
  {
   "cell_type": "code",
   "execution_count": 7,
   "metadata": {},
   "outputs": [
    {
     "data": {
      "text/plain": [
       "[<matplotlib.lines.Line2D at 0x278575acb70>]"
      ]
     },
     "execution_count": 7,
     "metadata": {},
     "output_type": "execute_result"
    },
    {
     "data": {
      "image/png": "[encoded data removed]",
      "text/plain": [
       "<Figure size 432x288 with 1 Axes>"
      ]
     },
     "metadata": {
      "needs_background": "light"
     },
     "output_type": "display_data"
    }
   ],
   "source": [
    "#Drop the extra forward steering samples.\n",
    "remove_list=[]\n",
    "for i in range(25):\n",
    "    temp=[]\n",
    "    for j in range(len(data_csv['steering'])):\n",
    "      if data_csv['steering'][j]>=bins[i] and data_csv['steering'][j]<=bins[i+1]:\n",
    "        temp.append(j)\n",
    "    temp=shuffle(temp)\n",
    "    temp=temp[400:]\n",
    "    remove_list.extend(temp)\n",
    "data_csv.drop(data_csv.index[remove_list],inplace=True) \n",
    "            \n",
    "\n",
    "hist,_=np.histogram(data_csv['steering'],25)\n",
    "plt.bar(center,hist,width=0.05)\n",
    "plt.plot((np.min(data_csv['steering']),np.max(data_csv['steering'])),(400,400))"
   ]
  },
  {
   "cell_type": "code",
   "execution_count": 10,
   "metadata": {},
   "outputs": [],
   "source": [
    "#We are using the center image and hence we are creating the pair array of paths and their corresponding steering angles.\n",
    "img_path=[]\n",
    "steering_angle=[]\n",
    "for i in range(len(data_csv)):\n",
    "    data=data_csv.iloc[i]\n",
    "    img=data[0]\n",
    "    str_angle=float(data[3])\n",
    "    img_path.append(os.path.join('SDCData/IMG/',img.strip()))\n",
    "    steering_angle.append(str_angle)\n",
    "img_path=np.asarray(img_path)\n",
    "steering_angle=np.asarray(steering_angle)"
   ]
  },
  {
   "cell_type": "code",
   "execution_count": 11,
   "metadata": {},
   "outputs": [
    {
     "data": {
      "text/plain": [
       "(1170,)"
      ]
     },
     "execution_count": 11,
     "metadata": {},
     "output_type": "execute_result"
    }
   ],
   "source": [
    "X_train,X_valid,y_train,y_valid=train_test_split(img_path,steering_angle,test_size=0.2,random_state=6)\n",
    "X_train.shape"
   ]
  },
  {
   "cell_type": "code",
   "execution_count": 13,
   "metadata": {},
   "outputs": [
    {
     "data": {
      "text/plain": [
       "Text(0.5, 1.0, 'Validation set')"
      ]
     },
     "execution_count": 13,
     "metadata": {},
     "output_type": "execute_result"
    },
    {
     "data": {
      "image/png": "[encoded data removed]",
      "text/plain": [
       "<Figure size 864x288 with 2 Axes>"
      ]
     },
     "metadata": {
      "needs_background": "light"
     },
     "output_type": "display_data"
    }
   ],
   "source": [
    "#Checking whether train and test data have same distribution or not.\n",
    "X_train.shape\n",
    "fig,axes=plt.subplots(1,2,figsize=(12,4))\n",
    "axes[0].hist(y_train,25,width=0.05,color='blue')\n",
    "axes[0].set_title('Training set')\n",
    "\n",
    "axes[1].hist(y_valid,25,width=0.05,color='red')\n",
    "axes[1].set_title('Validation set')"
   ]
  },
  {
   "cell_type": "code",
   "execution_count": null,
   "metadata": {},
   "outputs": [],
   "source": []
  }
 ],
 "metadata": {
  "kernelspec": {
   "display_name": "TensorFlow-GPU",
   "language": "python",
   "name": "tensorflow"
  },
  "language_info": {
   "codemirror_mode": {
    "name": "ipython",
    "version": 3
   },
   "file_extension": ".py",
   "mimetype": "text/x-python",
   "name": "python",
   "nbconvert_exporter": "python",
   "pygments_lexer": "ipython3",
   "version": "3.6.8"
  }
 },
 "nbformat": 4,
 "nbformat_minor": 2
}
