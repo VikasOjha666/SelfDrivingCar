{
 "cells": [
  {
   "cell_type": "code",
   "execution_count": null,
   "metadata": {
    "colab": {
     "base_uri": "https://localhost:8080/",
     "height": 34
    },
    "colab_type": "code",
    "id": "jNX9iSUW_aab",
    "outputId": "bca96274-18a9-41fb-c639-94e491f31803"
   },
   "outputs": [],
   "source": [
    "import numpy as np\n",
    "import matplotlib.pyplot as plt\n",
    "import keras\n",
    "from keras.models import Sequential\n",
    "from keras.layers import Conv2D,MaxPooling2D,Dense,Flatten,Dropout\n",
    "from keras.optimizers import Adam\n",
    "import random\n",
    "import pandas as pd\n",
    "import cv2\n",
    "import os\n",
    "from sklearn.utils import shuffle\n",
    "from sklearn.model_selection import train_test_split\n",
    "import matplotlib.image as mpimg\n",
    "from imgaug import augmenters as iaa"
   ]
  },
  {
   "cell_type": "code",
   "execution_count": null,
   "metadata": {
    "colab": {},
    "colab_type": "code",
    "id": "uAYSNc-5_eQG"
   },
   "outputs": [],
   "source": [
    "columns=['center','left','right','steering','throttle','reverse','speed']\n",
    "data_csv=pd.read_csv('SDCData/driving_log.csv',names=columns)"
   ]
  },
  {
   "cell_type": "code",
   "execution_count": null,
   "metadata": {
    "colab": {},
    "colab_type": "code",
    "id": "UMOKwPJ0_gf4"
   },
   "outputs": [],
   "source": [
    "def get_filenames(path):\n",
    "    filename=path.split()[-1].split(sep='\\\\')[-1]\n",
    "    return filename"
   ]
  },
  {
   "cell_type": "code",
   "execution_count": null,
   "metadata": {
    "colab": {
     "base_uri": "https://localhost:8080/",
     "height": 195
    },
    "colab_type": "code",
    "id": "tnvggq3XAlex",
    "outputId": "dff742c0-c261-45b8-c6cd-cfcc97f57ae3"
   },
   "outputs": [],
   "source": [
    "data_csv['center']=data_csv['center'].apply(get_filenames)\n",
    "data_csv['left']=data_csv['left'].apply(get_filenames)\n",
    "data_csv['right']=data_csv['right'].apply(get_filenames)\n",
    "hist,bins=np.histogram(data_csv['steering'],25)"
   ]
  },
  {
   "cell_type": "code",
   "execution_count": null,
   "metadata": {
    "colab": {
     "base_uri": "https://localhost:8080/",
     "height": 286
    },
    "colab_type": "code",
    "id": "UjpganBT_qnM",
    "outputId": "4602e383-a761-4ecb-939c-84cb41d5ca10"
   },
   "outputs": [],
   "source": [
    "#Drop the extra forward steering samples.\n",
    "remove_list=[]\n",
    "for i in range(25):\n",
    "    temp=[]\n",
    "    for j in range(len(data_csv['steering'])):\n",
    "      if data_csv['steering'][j]>=bins[i] and data_csv['steering'][j]<=bins[i+1]:\n",
    "        temp.append(j)\n",
    "    temp=shuffle(temp)\n",
    "    temp=temp[400:]\n",
    "    remove_list.extend(temp)\n",
    "data_csv.drop(data_csv.index[remove_list],inplace=True) \n",
    "            "
   ]
  },
  {
   "cell_type": "code",
   "execution_count": null,
   "metadata": {
    "colab": {},
    "colab_type": "code",
    "id": "0EmTyeU3_xD7"
   },
   "outputs": [],
   "source": [
    "#We are using the center image and hence we are creating the pair array of paths and their corresponding steering angles.\n",
    "img_path=[]\n",
    "steering_angle=[]\n",
    "for i in range(len(data_csv)):\n",
    "    data=data_csv.iloc[i]\n",
    "    img=data[0]\n",
    "    str_angle=float(data[3])\n",
    "    img_path.append(os.path.join('SDCData/IMG/',img.strip()))\n",
    "    steering_angle.append(str_angle)\n",
    "img_path=np.asarray(img_path)\n",
    "steering_angle=np.asarray(steering_angle)\n",
    "    "
   ]
  },
  {
   "cell_type": "code",
   "execution_count": null,
   "metadata": {
    "colab": {
     "base_uri": "https://localhost:8080/",
     "height": 34
    },
    "colab_type": "code",
    "id": "t7FNPIz-_0g8",
    "outputId": "6060c921-baa0-46b3-b6de-71c31278045b"
   },
   "outputs": [],
   "source": [
    "X_train,X_valid,y_train,y_valid=train_test_split(img_path,steering_angle,test_size=0.2,random_state=6)\n",
    "X_train.shape"
   ]
  },
  {
   "cell_type": "code",
   "execution_count": null,
   "metadata": {
    "colab": {},
    "colab_type": "code",
    "id": "W8TEXJ5r_92m"
   },
   "outputs": [],
   "source": [
    "def zoom(image):\n",
    "  zoom=iaa.Affine(scale=(1,1.3))\n",
    "  image=zoom.augment_image(image)\n",
    "  return image\n",
    "\n",
    "def pan(image):\n",
    "  pan=iaa.Affine(translate_percent={\"x\":(-0.1,0.1),\"y\":(-0.1,0.1)})\n",
    "  image=pan.augment_image(image)\n",
    "  return image\n",
    "\n",
    "def img_random_brightness(image):\n",
    "    brightness = iaa.Multiply((0.2, 1.2))\n",
    "    image = brightness.augment_image(image)\n",
    "    return image\n",
    "\n",
    "def img_random_flip(image, steering_angle):\n",
    "    image = cv2.flip(image,1)\n",
    "    steering_angle = -steering_angle\n",
    "    return image, steering_angle\n",
    "\n",
    "def random_augument(image,steering_angle):\n",
    "  image=mpimg.imread(image)\n",
    "  if np.random.rand()<0.5:\n",
    "    image=pan(image)\n",
    "  if np.random.rand()<0.5:\n",
    "    image=zoom(image)\n",
    "  if np.random.rand()<0.5:\n",
    "    image=img_random_brightness(image)\n",
    "  if np.random.rand()<0.5:\n",
    "    image,steering_angle=img_random_flip(image,steering_angle)\n",
    "  return image,steering_angle\n",
    "\n",
    "\n",
    "def batch_generator(image_paths,steering_angle,batch_size,is_training):\n",
    "  while True:\n",
    "    batch_img=[]\n",
    "    batch_steering=[]\n",
    "  \n",
    "    for i in range(batch_size):\n",
    "      random_index=random.randint(0,(len(image_paths)-1))\n",
    "      if is_training:\n",
    "        im,steering=random_augument(image_paths[random_index],steering_angle[random_index])\n",
    "      else:\n",
    "        im=mpimg.imread(image_paths[random_index])\n",
    "        steering=steering_angle[random_index]\n",
    "      im=img_preprocess(im)\n",
    "      batch_img.append(im)\n",
    "      batch_steering.append(steering)\n",
    "    yield np.asarray(batch_img),np.asarray(batch_steering)\n",
    "\n",
    "\n",
    "\n",
    "   \n",
    "    "
   ]
  },
  {
   "cell_type": "code",
   "execution_count": null,
   "metadata": {
    "colab": {},
    "colab_type": "code",
    "id": "ZPklYDw_ABA-"
   },
   "outputs": [],
   "source": [
    "def img_preprocess(img):\n",
    "  img=img[60:135,:,:]\n",
    "  img=cv2.cvtColor(img,cv2.COLOR_RGB2YUV)\n",
    "  img=cv2.GaussianBlur(img,(3,3),0)\n",
    "  img=cv2.resize(img,(200,66))\n",
    "  img=img/255\n",
    "  return img"
   ]
  },
  {
   "cell_type": "code",
   "execution_count": null,
   "metadata": {
    "colab": {},
    "colab_type": "code",
    "id": "ISGa5OSFAE4w"
   },
   "outputs": [],
   "source": [
    "model=Sequential()\n",
    "model.add(Conv2D(24,5,5,subsample=(2,2),input_shape=(66,200,3),activation='elu'))\n",
    "model.add(Conv2D(36,5,5,subsample=(2,2),activation='elu'))\n",
    "model.add(Conv2D(48,5,5,subsample=(2,2),activation='elu'))\n",
    "model.add(Conv2D(64,3,3,activation='elu'))\n",
    "model.add(Conv2D(64,3,3,activation='elu'))\n",
    "#model.add(Dropout(0.5))\n",
    "\n",
    "\n",
    "model.add(Flatten())\n",
    "model.add(Dense(100,activation='elu'))\n",
    "\n",
    "#model.add(Dropout(0.5))\n",
    "model.add(Dense(50,activation='elu'))\n",
    "#model.add(Dropout(0.5))\n",
    "model.add(Dense(10,activation='elu'))\n",
    "#model.add(Dropout(0.5))\n",
    "model.add(Dense(1))\n",
    "\n",
    "adam=Adam(lr=1e-3)\n",
    "model.compile(loss='mse',optimizer=adam)\n",
    "  \n",
    "\n"
   ]
  },
  {
   "cell_type": "code",
   "execution_count": null,
   "metadata": {
    "colab": {
     "base_uri": "https://localhost:8080/",
     "height": 675
    },
    "colab_type": "code",
    "id": "VxTn8mprAHLo",
    "outputId": "d9c92c8a-8689-48dd-988b-0f71d37d0647"
   },
   "outputs": [],
   "source": [
    "model.summary()"
   ]
  },
  {
   "cell_type": "code",
   "execution_count": null,
   "metadata": {
    "colab": {
     "base_uri": "https://localhost:8080/",
     "height": 438
    },
    "colab_type": "code",
    "id": "NfkRKbj4AJen",
    "outputId": "dce00a27-bbf8-4b7f-be18-cd89a498ec36"
   },
   "outputs": [],
   "source": [
    "history = model.fit_generator(batch_generator(X_train, y_train, 100, 1),\n",
    "                                  steps_per_epoch=300, \n",
    "                                  epochs=10,\n",
    "                                  validation_data=batch_generator(X_valid, y_valid, 100, 0),\n",
    "                                  validation_steps=200,\n",
    "                                  verbose=1,\n",
    "                                  shuffle = 1)"
   ]
  },
  {
   "cell_type": "code",
   "execution_count": null,
   "metadata": {
    "colab": {},
    "colab_type": "code",
    "id": "K2ebBbfcALmT"
   },
   "outputs": [],
   "source": [
    "plt.plot(history.history['loss'])\n",
    "plt.plot(history.history['val_loss'])\n",
    "plt.legend(['training','validation'])\n",
    "plt.title('Loss')\n",
    "plt.xlabel('Epoch')"
   ]
  },
  {
   "cell_type": "code",
   "execution_count": null,
   "metadata": {
    "colab": {},
    "colab_type": "code",
    "id": "Gh0WfhumAPSh"
   },
   "outputs": [],
   "source": [
    "model.save('SDCModifiedTrue.h5')"
   ]
  }
 ],
 "metadata": {
  "accelerator": "GPU",
  "colab": {
   "collapsed_sections": [],
   "name": "SDC 2.ipynb",
   "provenance": [],
   "version": "0.3.2"
  },
  "kernelspec": {
   "display_name": "TensorFlow-GPU",
   "language": "python",
   "name": "tensorflow"
  },
  "language_info": {
   "codemirror_mode": {
    "name": "ipython",
    "version": 3
   },
   "file_extension": ".py",
   "mimetype": "text/x-python",
   "name": "python",
   "nbconvert_exporter": "python",
   "pygments_lexer": "ipython3",
   "version": "3.6.8"
  }
 },
 "nbformat": 4,
 "nbformat_minor": 1
}
